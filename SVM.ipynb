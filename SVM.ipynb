{
 "cells": [
  {
   "cell_type": "code",
   "execution_count": 201,
   "metadata": {},
   "outputs": [],
   "source": [
    "import pandas as pd\n",
    "import numpy as np\n",
    "import matplotlib.pyplot as plt\n",
    "import seaborn as sns\n",
    "from sklearn.metrics import confusion_matrix , mean_squared_error\n",
    "\n",
    "df= pd.read_csv('/Users/burakfindikli/Documents/repos/ML_Analiz/data/2018-2019_tsl.csv',index_col = False)\n",
    "df2=pd.read_csv('/Users/burakfindikli/Documents/repos/ML_Analiz/data/2018-2019_tsl.csv',index_col = False)"
   ]
  },
  {
   "cell_type": "code",
   "execution_count": 202,
   "metadata": {},
   "outputs": [],
   "source": [
    " #  2017-2018 ile 2018-2019 sezonunun Maçlarını birleştirdim\n",
    " df3=pd.concat([df, df2], ignore_index=True)\n"
   ]
  },
  {
   "cell_type": "code",
   "execution_count": 203,
   "metadata": {},
   "outputs": [],
   "source": [
    "#Maçı ev sahibi kazandıysa 1 beraberlik olduysa 0 deplasman takımı kazandıysa 2 diye kodladım.\n",
    "df3[\"kazanan_dep\"]=df3.ev_sonuc < df3.dep_sonuc\n",
    "df3.kazanan_dep = df3.kazanan_dep.astype(int)*2\n",
    "\n",
    "df3[\"kazanan_ev\"] = df3.ev_sonuc > df3.dep_sonuc\n",
    "df3.kazanan_ev = df3.kazanan_ev.astype(int)\n",
    "\n",
    "df3[\"kazanan_berabere\"] = df3.ev_sonuc == df3.dep_sonuc\n",
    "df3.kazanan_berabere = df3.kazanan_berabere.astype(int)*0\n",
    "\n",
    "df3[\"sonuc\"]=df3.kazanan_dep+df3.kazanan_ev+df3.kazanan_berabere\n",
    "df3=df3.drop(['kazanan_dep', 'kazanan_ev','kazanan_berabere','ev_gol','dep_gol'], axis=1)"
   ]
  },
  {
   "cell_type": "code",
   "execution_count": 204,
   "metadata": {},
   "outputs": [],
   "source": [
    "#bu değişkenlerde % ve , var temizleme yapmam lazım\n",
    "col=['ev_topla_oynama','ev_ikili_mucadele_kazanma','ev_hava_topu','dep_topla_oynama','dep_ikili_mucadele_kazanma','dep_hava_topu','ev_pas_isabet','ev_rakip_yari_sahada_pas_isabeti','ev_orta_istabeti','dep_pas_isabet','dep_rakip_yari_sahada_pas_isabeti','dep_orta_istabeti','ev_sut_isabeti','dep_sut_isabeti','ev_top_kapma_basarisi','dep_top_kapma_basarisi']"
   ]
  },
  {
   "cell_type": "code",
   "execution_count": 205,
   "metadata": {},
   "outputs": [],
   "source": [
    "# col değişkenindeki % , gibi karakterleri replace ettim\n",
    "k=0\n",
    "while k < df3[col].shape[1]:\n",
    "    df3[col[k]] = df3[col[k]].str.replace(\",\",\".\")\n",
    "    df3[col[k]] = df3[col[k]].str.replace(\"%\",\"\")\n",
    "    k+=1"
   ]
  },
  {
   "cell_type": "code",
   "execution_count": 206,
   "metadata": {},
   "outputs": [],
   "source": [
    "#object olan veri tiplerini floata çevirdim\n",
    "df3[col]=df3[col].astype(float)"
   ]
  },
  {
   "cell_type": "code",
   "execution_count": 207,
   "metadata": {},
   "outputs": [],
   "source": [
    "drop_value = ['ev_takim', 'dep_takim', 'ev_sonuc', 'dep_sonuc', ]\n",
    "df3=df3.drop(drop_value,axis=1)"
   ]
  },
  {
   "cell_type": "code",
   "execution_count": 208,
   "metadata": {},
   "outputs": [],
   "source": [
    "from sklearn.model_selection import train_test_split , GridSearchCV"
   ]
  },
  {
   "cell_type": "code",
   "execution_count": 209,
   "metadata": {},
   "outputs": [],
   "source": [
    "#bağımlı bağımsız değişkenlerimi ayırdım \n",
    "#bağımlı değişken sonuc(1=Evsahibi kazanır 0=Beraberlik 2=Deplasman kazanır)\n",
    "x = df3.iloc[:,:-1]\n",
    "y = df3.sonuc\n",
    "from sklearn.preprocessing import StandardScaler\n",
    "stdsc = StandardScaler()\n",
    "x_scaled = stdsc.fit_transform(x)\n",
    "X_train, X_test, y_train, y_test = train_test_split(x_scaled,y,test_size=0.2,random_state=101)"
   ]
  },
  {
   "cell_type": "code",
   "execution_count": 210,
   "metadata": {},
   "outputs": [
    {
     "output_type": "execute_result",
     "data": {
      "text/plain": "SVC(C=1.0, break_ties=False, cache_size=200, class_weight=None, coef0=0.0,\n    decision_function_shape='ovr', degree=3, gamma='scale', kernel='poly',\n    max_iter=-1, probability=False, random_state=None, shrinking=True,\n    tol=0.001, verbose=False)"
     },
     "metadata": {},
     "execution_count": 210
    }
   ],
   "source": [
    "from sklearn.svm import SVC\n",
    "model=SVC(kernel=\"poly\").fit(X_train, y_train)\n",
    "model"
   ]
  },
  {
   "cell_type": "code",
   "execution_count": 211,
   "metadata": {},
   "outputs": [],
   "source": [
    "y_pred = model.predict(X_test)"
   ]
  },
  {
   "cell_type": "code",
   "execution_count": 212,
   "metadata": {
    "tags": []
   },
   "outputs": [
    {
     "output_type": "execute_result",
     "data": {
      "text/plain": "0.8151260504201681"
     },
     "metadata": {},
     "execution_count": 212
    }
   ],
   "source": [
    "model.score(X_test,y_test) \n",
    "#mean_squared_error(y_test,y_pred)"
   ]
  },
  {
   "cell_type": "code",
   "execution_count": 213,
   "metadata": {
    "tags": []
   },
   "outputs": [
    {
     "output_type": "stream",
     "name": "stdout",
     "text": "[[ 70  49   2]\n [  6 208   4]\n [  1  26 110]]\n"
    }
   ],
   "source": [
    "cm = confusion_matrix(y_test, y_pred)\n",
    "print(cm)"
   ]
  },
  {
   "cell_type": "code",
   "execution_count": 214,
   "metadata": {
    "tags": []
   },
   "outputs": [
    {
     "output_type": "stream",
     "name": "stdout",
     "text": "Fitting 10 folds for each of 24 candidates, totalling 240 fits\n[Parallel(n_jobs=-1)]: Using backend LokyBackend with 4 concurrent workers.\n[Parallel(n_jobs=-1)]: Done  33 tasks      | elapsed:    4.8s\n[Parallel(n_jobs=-1)]: Done 154 tasks      | elapsed:   42.2s\n[Parallel(n_jobs=-1)]: Done 240 out of 240 | elapsed:  1.6min finished\n"
    }
   ],
   "source": [
    "model=SVC(kernel=\"poly\")\n",
    "svm_params = {\"C\" : [0.1,0.3,0.5,1,2,3,4,5],\"kernel\" : ['linear', 'poly', 'rbf']}\n",
    "svm_cv_model = GridSearchCV(model,svm_params,cv=10,verbose=2,n_jobs=-1).fit(X_train,y_train)"
   ]
  },
  {
   "cell_type": "code",
   "execution_count": 215,
   "metadata": {},
   "outputs": [
    {
     "output_type": "execute_result",
     "data": {
      "text/plain": "{'C': 5, 'kernel': 'rbf'}"
     },
     "metadata": {},
     "execution_count": 215
    }
   ],
   "source": [
    "svm_cv_model.best_params_"
   ]
  },
  {
   "cell_type": "code",
   "execution_count": 219,
   "metadata": {},
   "outputs": [],
   "source": [
    "svm_tuned =SVC(kernel=svm_cv_model.best_params_[\"kernel\"], C=svm_cv_model.best_params_[\"C\"]).fit(X_train,y_train)\n",
    "y_pred= svm_tuned.predict(X_test)"
   ]
  },
  {
   "cell_type": "code",
   "execution_count": 220,
   "metadata": {},
   "outputs": [
    {
     "output_type": "execute_result",
     "data": {
      "text/plain": "0.20798319327731093"
     },
     "metadata": {},
     "execution_count": 220
    }
   ],
   "source": [
    "mean_squared_error(y_test,y_pred)"
   ]
  },
  {
   "cell_type": "code",
   "execution_count": 221,
   "metadata": {},
   "outputs": [
    {
     "output_type": "execute_result",
     "data": {
      "text/plain": "0.8928571428571429"
     },
     "metadata": {},
     "execution_count": 221
    }
   ],
   "source": [
    "svm_tuned.score(X_test,y_test) "
   ]
  },
  {
   "cell_type": "code",
   "execution_count": null,
   "metadata": {},
   "outputs": [],
   "source": []
  }
 ],
 "metadata": {
  "kernelspec": {
   "display_name": "Python 3",
   "language": "python",
   "name": "python3"
  },
  "language_info": {
   "codemirror_mode": {
    "name": "ipython",
    "version": 3
   },
   "file_extension": ".py",
   "mimetype": "text/x-python",
   "name": "python",
   "nbconvert_exporter": "python",
   "pygments_lexer": "ipython3",
   "version": "3.8.3-final"
  }
 },
 "nbformat": 4,
 "nbformat_minor": 4
}