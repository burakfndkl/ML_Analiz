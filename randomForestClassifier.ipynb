{
 "cells": [
  {
   "cell_type": "code",
   "execution_count": 24,
   "metadata": {},
   "outputs": [],
   "source": [
    "import pandas as pd\n",
    "import matplotlib.pyplot as plt\n",
    "import seaborn as sns\n",
    "df= pd.read_csv('/Users/burakfindikli/Documents/repos/ML_Analiz/data/2018-2019_tsl.csv',index_col = False)\n",
    "df2=pd.read_csv('/Users/burakfindikli/Documents/repos/ML_Analiz/data/2018-2019_tsl.csv',index_col = False)"
   ]
  },
  {
   "cell_type": "code",
   "execution_count": 25,
   "metadata": {},
   "outputs": [],
   "source": [
    "#  2017-2018 ile 2018-2019 sezonunun Maçlarını birleştirdim\n",
    "df3=pd.concat([df, df2], ignore_index=True)\n"
   ]
  },
  {
   "cell_type": "code",
   "execution_count": 26,
   "metadata": {},
   "outputs": [],
   "source": [
    "#Maçı ev sahibi kazandıysa 1 beraberlik olduysa 0 deplasman takımı kazandıysa 2 diye kodladım.\n",
    "df3[\"kazanan_dep\"]=df3.ev_sonuc < df3.dep_sonuc\n",
    "df3.kazanan_dep = df3.kazanan_dep.astype(int)*2\n",
    "\n",
    "df3[\"kazanan_ev\"] = df3.ev_sonuc > df3.dep_sonuc\n",
    "df3.kazanan_ev = df3.kazanan_ev.astype(int)\n",
    "\n",
    "df3[\"kazanan_berabere\"] = df3.ev_sonuc == df3.dep_sonuc\n",
    "df3.kazanan_berabere = df3.kazanan_berabere.astype(int)*0\n",
    "\n",
    "df3[\"sonuc\"]=df3.kazanan_dep+df3.kazanan_ev+df3.kazanan_berabere\n",
    "df3=df3.drop(['kazanan_dep', 'kazanan_ev','kazanan_berabere','ev_gol','dep_gol'], axis=1)\n",
    "del(df,df2)"
   ]
  },
  {
   "cell_type": "code",
   "execution_count": 27,
   "metadata": {},
   "outputs": [],
   "source": [
    "#bu değişkenlerde % ve , var temizleme yapmam lazım\n",
    "col=['ev_topla_oynama','ev_ikili_mucadele_kazanma','ev_hava_topu','dep_topla_oynama','dep_ikili_mucadele_kazanma','dep_hava_topu','ev_pas_isabet','ev_rakip_yari_sahada_pas_isabeti','ev_orta_istabeti','dep_pas_isabet','dep_rakip_yari_sahada_pas_isabeti','dep_orta_istabeti','ev_sut_isabeti','dep_sut_isabeti','ev_top_kapma_basarisi','dep_top_kapma_basarisi']"
   ]
  },
  {
   "cell_type": "code",
   "execution_count": 28,
   "metadata": {},
   "outputs": [],
   "source": [
    "# col değişkenindeki % , gibi karakterleri replace ettim\n",
    "k=0\n",
    "while k < df3[col].shape[1]:\n",
    "    df3[col[k]] = df3[col[k]].str.replace(\",\",\".\")\n",
    "    df3[col[k]] = df3[col[k]].str.replace(\"%\",\"\")\n",
    "    k+=1"
   ]
  },
  {
   "cell_type": "code",
   "execution_count": 29,
   "metadata": {},
   "outputs": [],
   "source": [
    "#object olan veri tiplerini floata çevirdim\n",
    "df3[col]=df3[col].astype(float)"
   ]
  },
  {
   "cell_type": "code",
   "execution_count": 30,
   "metadata": {},
   "outputs": [],
   "source": [
    "drop_value = ['ev_takim', 'dep_takim', 'ev_sonuc', 'dep_sonuc', ]\n",
    "df3=df3.drop(drop_value,axis=1)"
   ]
  },
  {
   "cell_type": "code",
   "execution_count": 31,
   "metadata": {},
   "outputs": [],
   "source": [
    "from sklearn.model_selection import train_test_split"
   ]
  },
  {
   "cell_type": "code",
   "execution_count": 32,
   "metadata": {},
   "outputs": [],
   "source": [
    "#bağımlı bağımsız değişkenlerimi ayırdım \n",
    "#bağımlı değişken sonuc(1=Evsahibi kazanır 0=Beraberlik 2=Deplasman kazanır)\n",
    "x = df3.iloc[:,:-1]\n",
    "y = df3.sonuc\n",
    "from sklearn.preprocessing import StandardScaler\n",
    "stdsc = StandardScaler()\n",
    "x_scaled = stdsc.fit_transform(x)\n",
    "X_train, X_test, y_train, y_test = train_test_split(x_scaled,y,test_size=0.2,random_state=101)"
   ]
  },
  {
   "cell_type": "code",
   "execution_count": 33,
   "metadata": {},
   "outputs": [],
   "source": [
    "from sklearn.ensemble import RandomForestClassifier\n",
    "from sklearn.metrics import classification_report, confusion_matrix\n",
    "import time"
   ]
  },
  {
   "cell_type": "code",
   "execution_count": 34,
   "metadata": {
    "tags": []
   },
   "outputs": [
    {
     "output_type": "stream",
     "name": "stdout",
     "text": "4.272423000000002\n"
    }
   ],
   "source": [
    "start = time.process_time()\n",
    "model = RandomForestClassifier(n_estimators=700).fit(X_train,y_train)\n",
    "print(time.process_time()-start)"
   ]
  },
  {
   "cell_type": "code",
   "execution_count": 35,
   "metadata": {},
   "outputs": [],
   "source": [
    "preds = model.predict(X_test)"
   ]
  },
  {
   "cell_type": "code",
   "execution_count": 36,
   "metadata": {
    "tags": []
   },
   "outputs": [
    {
     "output_type": "stream",
     "name": "stdout",
     "text": "[[109  10   2]\n [  4 208   6]\n [  0  14 123]]\n"
    }
   ],
   "source": [
    "print(confusion_matrix(y_test,preds))"
   ]
  },
  {
   "cell_type": "code",
   "execution_count": 37,
   "metadata": {},
   "outputs": [
    {
     "output_type": "execute_result",
     "data": {
      "text/plain": "0.9243697478991597"
     },
     "metadata": {},
     "execution_count": 37
    }
   ],
   "source": [
    "model.score(X_test,y_test)"
   ]
  },
  {
   "cell_type": "code",
   "execution_count": 38,
   "metadata": {},
   "outputs": [
    {
     "output_type": "execute_result",
     "data": {
      "text/plain": "array([0.01975021, 0.02026033, 0.02078236, 0.01707598, 0.01099403,\n       0.01339611, 0.02021555, 0.02117927, 0.02082136, 0.01763776,\n       0.0108444 , 0.01282994, 0.02207824, 0.0177241 , 0.0240756 ,\n       0.02655487, 0.03228777, 0.02067591, 0.02290822, 0.02505732,\n       0.02496517, 0.02377226, 0.0225391 , 0.02088301, 0.01664045,\n       0.03608926, 0.01238578, 0.01562157, 0.02498177, 0.05357127,\n       0.01726478, 0.03589715, 0.00950048, 0.01470338, 0.02387367,\n       0.04145481, 0.0168917 , 0.01892177, 0.03103788, 0.01755058,\n       0.02074296, 0.04256954, 0.01590284, 0.0110376 , 0.00418792,\n       0.01545672, 0.00974743, 0.00465983])"
     },
     "metadata": {},
     "execution_count": 38
    }
   ],
   "source": [
    "model.feature_importances_"
   ]
  },
  {
   "cell_type": "code",
   "execution_count": 39,
   "metadata": {},
   "outputs": [],
   "source": [
    "feature_imp = pd.Series(model.feature_importances_, index = x.columns)"
   ]
  },
  {
   "cell_type": "code",
   "execution_count": 40,
   "metadata": {},
   "outputs": [
    {
     "output_type": "execute_result",
     "data": {
      "text/plain": "<matplotlib.axes._subplots.AxesSubplot at 0x7ff82a6579d0>"
     },
     "metadata": {},
     "execution_count": 40
    },
    {
     "output_type": "display_data",
     "data": {
      "text/plain": "<Figure size 432x288 with 1 Axes>",
      "image/svg+xml": "<?xml version=\"1.0\" encoding=\"utf-8\" standalone=\"no\"?>\n<!DOCTYPE svg PUBLIC \"-//W3C//DTD SVG 1.1//EN\"\n  \"http://www.w3.org/Graphics/SVG/1.1/DTD/svg11.dtd\">\n<!-- Created with matplotlib (https://matplotlib.org/) -->\n<svg height=\"248.518125pt\" version=\"1.1\" viewBox=\"0 0 524.645312 248.518125\" width=\"524.645312pt\" xmlns=\"http://www.w3.org/2000/svg\" xmlns:xlink=\"http://www.w3.org/1999/xlink\">\n <defs>\n  <style type=\"text/css\">\n*{stroke-linecap:butt;stroke-linejoin:round;}\n  </style>\n </defs>\n <g id=\"figure_1\">\n  <g id=\"patch_1\">\n   <path d=\"M 0 248.518125 \nL 524.645313 248.518125 \nL 524.645313 0 \nL 0 0 \nz\n\" style=\"fill:none;\"/>\n  </g>\n  <g id=\"axes_1\">\n   <g id=\"patch_2\">\n    <path d=\"M 182.645312 224.64 \nL 517.445312 224.64 \nL 517.445312 7.2 \nL 182.645312 7.2 \nz\n\" style=\"fill:#ffffff;\"/>\n   </g>\n   <g id=\"patch_3\">\n    <path clip-path=\"url(#p7fd6b9b3fe)\" d=\"M 182.645312 219.204 \nL 501.502455 219.204 \nL 501.502455 208.332 \nL 182.645312 208.332 \nz\n\" style=\"fill:#1f77b4;\"/>\n   </g>\n   <g id=\"patch_4\">\n    <path clip-path=\"url(#p7fd6b9b3fe)\" d=\"M 182.645312 197.46 \nL 436.019965 197.46 \nL 436.019965 186.588 \nL 182.645312 186.588 \nz\n\" style=\"fill:#1f77b4;\"/>\n   </g>\n   <g id=\"patch_5\">\n    <path clip-path=\"url(#p7fd6b9b3fe)\" d=\"M 182.645312 175.716 \nL 429.385067 175.716 \nL 429.385067 164.844 \nL 182.645312 164.844 \nz\n\" style=\"fill:#1f77b4;\"/>\n   </g>\n   <g id=\"patch_6\">\n    <path clip-path=\"url(#p7fd6b9b3fe)\" d=\"M 182.645312 153.972 \nL 397.449234 153.972 \nL 397.449234 143.1 \nL 182.645312 143.1 \nz\n\" style=\"fill:#1f77b4;\"/>\n   </g>\n   <g id=\"patch_7\">\n    <path clip-path=\"url(#p7fd6b9b3fe)\" d=\"M 182.645312 132.228 \nL 396.3058 132.228 \nL 396.3058 121.356 \nL 182.645312 121.356 \nz\n\" style=\"fill:#1f77b4;\"/>\n   </g>\n   <g id=\"patch_8\">\n    <path clip-path=\"url(#p7fd6b9b3fe)\" d=\"M 182.645312 110.484 \nL 374.82273 110.484 \nL 374.82273 99.612 \nL 182.645312 99.612 \nz\n\" style=\"fill:#1f77b4;\"/>\n   </g>\n   <g id=\"patch_9\">\n    <path clip-path=\"url(#p7fd6b9b3fe)\" d=\"M 182.645312 88.74 \nL 367.383325 88.74 \nL 367.383325 77.868 \nL 182.645312 77.868 \nz\n\" style=\"fill:#1f77b4;\"/>\n   </g>\n   <g id=\"patch_10\">\n    <path clip-path=\"url(#p7fd6b9b3fe)\" d=\"M 182.645312 66.996 \nL 340.700369 66.996 \nL 340.700369 56.124 \nL 182.645312 56.124 \nz\n\" style=\"fill:#1f77b4;\"/>\n   </g>\n   <g id=\"patch_11\">\n    <path clip-path=\"url(#p7fd6b9b3fe)\" d=\"M 182.645312 45.252 \nL 331.786922 45.252 \nL 331.786922 34.38 \nL 182.645312 34.38 \nz\n\" style=\"fill:#1f77b4;\"/>\n   </g>\n   <g id=\"patch_12\">\n    <path clip-path=\"url(#p7fd6b9b3fe)\" d=\"M 182.645312 23.508 \nL 331.337267 23.508 \nL 331.337267 12.636 \nL 182.645312 12.636 \nz\n\" style=\"fill:#1f77b4;\"/>\n   </g>\n   <g id=\"matplotlib.axis_1\">\n    <g id=\"xtick_1\">\n     <g id=\"line2d_1\">\n      <defs>\n       <path d=\"M 0 0 \nL 0 3.5 \n\" id=\"m517a7281e9\" style=\"stroke:#000000;stroke-width:0.8;\"/>\n      </defs>\n      <g>\n       <use style=\"stroke:#000000;stroke-width:0.8;\" x=\"182.645312\" xlink:href=\"#m517a7281e9\" y=\"224.64\"/>\n      </g>\n     </g>\n     <g id=\"text_1\">\n      <!-- 0.00 -->\n      <defs>\n       <path d=\"M 31.78125 66.40625 \nQ 24.171875 66.40625 20.328125 58.90625 \nQ 16.5 51.421875 16.5 36.375 \nQ 16.5 21.390625 20.328125 13.890625 \nQ 24.171875 6.390625 31.78125 6.390625 \nQ 39.453125 6.390625 43.28125 13.890625 \nQ 47.125 21.390625 47.125 36.375 \nQ 47.125 51.421875 43.28125 58.90625 \nQ 39.453125 66.40625 31.78125 66.40625 \nz\nM 31.78125 74.21875 \nQ 44.046875 74.21875 50.515625 64.515625 \nQ 56.984375 54.828125 56.984375 36.375 \nQ 56.984375 17.96875 50.515625 8.265625 \nQ 44.046875 -1.421875 31.78125 -1.421875 \nQ 19.53125 -1.421875 13.0625 8.265625 \nQ 6.59375 17.96875 6.59375 36.375 \nQ 6.59375 54.828125 13.0625 64.515625 \nQ 19.53125 74.21875 31.78125 74.21875 \nz\n\" id=\"DejaVuSans-48\"/>\n       <path d=\"M 10.6875 12.40625 \nL 21 12.40625 \nL 21 0 \nL 10.6875 0 \nz\n\" id=\"DejaVuSans-46\"/>\n      </defs>\n      <g transform=\"translate(171.5125 239.238437)scale(0.1 -0.1)\">\n       <use xlink:href=\"#DejaVuSans-48\"/>\n       <use x=\"63.623047\" xlink:href=\"#DejaVuSans-46\"/>\n       <use x=\"95.410156\" xlink:href=\"#DejaVuSans-48\"/>\n       <use x=\"159.033203\" xlink:href=\"#DejaVuSans-48\"/>\n      </g>\n     </g>\n    </g>\n    <g id=\"xtick_2\">\n     <g id=\"line2d_2\">\n      <g>\n       <use style=\"stroke:#000000;stroke-width:0.8;\" x=\"242.165493\" xlink:href=\"#m517a7281e9\" y=\"224.64\"/>\n      </g>\n     </g>\n     <g id=\"text_2\">\n      <!-- 0.01 -->\n      <defs>\n       <path d=\"M 12.40625 8.296875 \nL 28.515625 8.296875 \nL 28.515625 63.921875 \nL 10.984375 60.40625 \nL 10.984375 69.390625 \nL 28.421875 72.90625 \nL 38.28125 72.90625 \nL 38.28125 8.296875 \nL 54.390625 8.296875 \nL 54.390625 0 \nL 12.40625 0 \nz\n\" id=\"DejaVuSans-49\"/>\n      </defs>\n      <g transform=\"translate(231.03268 239.238437)scale(0.1 -0.1)\">\n       <use xlink:href=\"#DejaVuSans-48\"/>\n       <use x=\"63.623047\" xlink:href=\"#DejaVuSans-46\"/>\n       <use x=\"95.410156\" xlink:href=\"#DejaVuSans-48\"/>\n       <use x=\"159.033203\" xlink:href=\"#DejaVuSans-49\"/>\n      </g>\n     </g>\n    </g>\n    <g id=\"xtick_3\">\n     <g id=\"line2d_3\">\n      <g>\n       <use style=\"stroke:#000000;stroke-width:0.8;\" x=\"301.685673\" xlink:href=\"#m517a7281e9\" y=\"224.64\"/>\n      </g>\n     </g>\n     <g id=\"text_3\">\n      <!-- 0.02 -->\n      <defs>\n       <path d=\"M 19.1875 8.296875 \nL 53.609375 8.296875 \nL 53.609375 0 \nL 7.328125 0 \nL 7.328125 8.296875 \nQ 12.9375 14.109375 22.625 23.890625 \nQ 32.328125 33.6875 34.8125 36.53125 \nQ 39.546875 41.84375 41.421875 45.53125 \nQ 43.3125 49.21875 43.3125 52.78125 \nQ 43.3125 58.59375 39.234375 62.25 \nQ 35.15625 65.921875 28.609375 65.921875 \nQ 23.96875 65.921875 18.8125 64.3125 \nQ 13.671875 62.703125 7.8125 59.421875 \nL 7.8125 69.390625 \nQ 13.765625 71.78125 18.9375 73 \nQ 24.125 74.21875 28.421875 74.21875 \nQ 39.75 74.21875 46.484375 68.546875 \nQ 53.21875 62.890625 53.21875 53.421875 \nQ 53.21875 48.921875 51.53125 44.890625 \nQ 49.859375 40.875 45.40625 35.40625 \nQ 44.1875 33.984375 37.640625 27.21875 \nQ 31.109375 20.453125 19.1875 8.296875 \nz\n\" id=\"DejaVuSans-50\"/>\n      </defs>\n      <g transform=\"translate(290.552861 239.238437)scale(0.1 -0.1)\">\n       <use xlink:href=\"#DejaVuSans-48\"/>\n       <use x=\"63.623047\" xlink:href=\"#DejaVuSans-46\"/>\n       <use x=\"95.410156\" xlink:href=\"#DejaVuSans-48\"/>\n       <use x=\"159.033203\" xlink:href=\"#DejaVuSans-50\"/>\n      </g>\n     </g>\n    </g>\n    <g id=\"xtick_4\">\n     <g id=\"line2d_4\">\n      <g>\n       <use style=\"stroke:#000000;stroke-width:0.8;\" x=\"361.205853\" xlink:href=\"#m517a7281e9\" y=\"224.64\"/>\n      </g>\n     </g>\n     <g id=\"text_4\">\n      <!-- 0.03 -->\n      <defs>\n       <path d=\"M 40.578125 39.3125 \nQ 47.65625 37.796875 51.625 33 \nQ 55.609375 28.21875 55.609375 21.1875 \nQ 55.609375 10.40625 48.1875 4.484375 \nQ 40.765625 -1.421875 27.09375 -1.421875 \nQ 22.515625 -1.421875 17.65625 -0.515625 \nQ 12.796875 0.390625 7.625 2.203125 \nL 7.625 11.71875 \nQ 11.71875 9.328125 16.59375 8.109375 \nQ 21.484375 6.890625 26.8125 6.890625 \nQ 36.078125 6.890625 40.9375 10.546875 \nQ 45.796875 14.203125 45.796875 21.1875 \nQ 45.796875 27.640625 41.28125 31.265625 \nQ 36.765625 34.90625 28.71875 34.90625 \nL 20.21875 34.90625 \nL 20.21875 43.015625 \nL 29.109375 43.015625 \nQ 36.375 43.015625 40.234375 45.921875 \nQ 44.09375 48.828125 44.09375 54.296875 \nQ 44.09375 59.90625 40.109375 62.90625 \nQ 36.140625 65.921875 28.71875 65.921875 \nQ 24.65625 65.921875 20.015625 65.03125 \nQ 15.375 64.15625 9.8125 62.3125 \nL 9.8125 71.09375 \nQ 15.4375 72.65625 20.34375 73.4375 \nQ 25.25 74.21875 29.59375 74.21875 \nQ 40.828125 74.21875 47.359375 69.109375 \nQ 53.90625 64.015625 53.90625 55.328125 \nQ 53.90625 49.265625 50.4375 45.09375 \nQ 46.96875 40.921875 40.578125 39.3125 \nz\n\" id=\"DejaVuSans-51\"/>\n      </defs>\n      <g transform=\"translate(350.073041 239.238437)scale(0.1 -0.1)\">\n       <use xlink:href=\"#DejaVuSans-48\"/>\n       <use x=\"63.623047\" xlink:href=\"#DejaVuSans-46\"/>\n       <use x=\"95.410156\" xlink:href=\"#DejaVuSans-48\"/>\n       <use x=\"159.033203\" xlink:href=\"#DejaVuSans-51\"/>\n      </g>\n     </g>\n    </g>\n    <g id=\"xtick_5\">\n     <g id=\"line2d_5\">\n      <g>\n       <use style=\"stroke:#000000;stroke-width:0.8;\" x=\"420.726034\" xlink:href=\"#m517a7281e9\" y=\"224.64\"/>\n      </g>\n     </g>\n     <g id=\"text_5\">\n      <!-- 0.04 -->\n      <defs>\n       <path d=\"M 37.796875 64.3125 \nL 12.890625 25.390625 \nL 37.796875 25.390625 \nz\nM 35.203125 72.90625 \nL 47.609375 72.90625 \nL 47.609375 25.390625 \nL 58.015625 25.390625 \nL 58.015625 17.1875 \nL 47.609375 17.1875 \nL 47.609375 0 \nL 37.796875 0 \nL 37.796875 17.1875 \nL 4.890625 17.1875 \nL 4.890625 26.703125 \nz\n\" id=\"DejaVuSans-52\"/>\n      </defs>\n      <g transform=\"translate(409.593221 239.238437)scale(0.1 -0.1)\">\n       <use xlink:href=\"#DejaVuSans-48\"/>\n       <use x=\"63.623047\" xlink:href=\"#DejaVuSans-46\"/>\n       <use x=\"95.410156\" xlink:href=\"#DejaVuSans-48\"/>\n       <use x=\"159.033203\" xlink:href=\"#DejaVuSans-52\"/>\n      </g>\n     </g>\n    </g>\n    <g id=\"xtick_6\">\n     <g id=\"line2d_6\">\n      <g>\n       <use style=\"stroke:#000000;stroke-width:0.8;\" x=\"480.246214\" xlink:href=\"#m517a7281e9\" y=\"224.64\"/>\n      </g>\n     </g>\n     <g id=\"text_6\">\n      <!-- 0.05 -->\n      <defs>\n       <path d=\"M 10.796875 72.90625 \nL 49.515625 72.90625 \nL 49.515625 64.59375 \nL 19.828125 64.59375 \nL 19.828125 46.734375 \nQ 21.96875 47.46875 24.109375 47.828125 \nQ 26.265625 48.1875 28.421875 48.1875 \nQ 40.625 48.1875 47.75 41.5 \nQ 54.890625 34.8125 54.890625 23.390625 \nQ 54.890625 11.625 47.5625 5.09375 \nQ 40.234375 -1.421875 26.90625 -1.421875 \nQ 22.3125 -1.421875 17.546875 -0.640625 \nQ 12.796875 0.140625 7.71875 1.703125 \nL 7.71875 11.625 \nQ 12.109375 9.234375 16.796875 8.0625 \nQ 21.484375 6.890625 26.703125 6.890625 \nQ 35.15625 6.890625 40.078125 11.328125 \nQ 45.015625 15.765625 45.015625 23.390625 \nQ 45.015625 31 40.078125 35.4375 \nQ 35.15625 39.890625 26.703125 39.890625 \nQ 22.75 39.890625 18.8125 39.015625 \nQ 14.890625 38.140625 10.796875 36.28125 \nz\n\" id=\"DejaVuSans-53\"/>\n      </defs>\n      <g transform=\"translate(469.113401 239.238437)scale(0.1 -0.1)\">\n       <use xlink:href=\"#DejaVuSans-48\"/>\n       <use x=\"63.623047\" xlink:href=\"#DejaVuSans-46\"/>\n       <use x=\"95.410156\" xlink:href=\"#DejaVuSans-48\"/>\n       <use x=\"159.033203\" xlink:href=\"#DejaVuSans-53\"/>\n      </g>\n     </g>\n    </g>\n   </g>\n   <g id=\"matplotlib.axis_2\">\n    <g id=\"ytick_1\">\n     <g id=\"line2d_7\">\n      <defs>\n       <path d=\"M 0 0 \nL -3.5 0 \n\" id=\"m3caa5501a6\" style=\"stroke:#000000;stroke-width:0.8;\"/>\n      </defs>\n      <g>\n       <use style=\"stroke:#000000;stroke-width:0.8;\" x=\"182.645312\" xlink:href=\"#m3caa5501a6\" y=\"213.768\"/>\n      </g>\n     </g>\n     <g id=\"text_7\">\n      <!-- ev_sut_isabeti -->\n      <defs>\n       <path d=\"M 56.203125 29.59375 \nL 56.203125 25.203125 \nL 14.890625 25.203125 \nQ 15.484375 15.921875 20.484375 11.0625 \nQ 25.484375 6.203125 34.421875 6.203125 \nQ 39.59375 6.203125 44.453125 7.46875 \nQ 49.3125 8.734375 54.109375 11.28125 \nL 54.109375 2.78125 \nQ 49.265625 0.734375 44.1875 -0.34375 \nQ 39.109375 -1.421875 33.890625 -1.421875 \nQ 20.796875 -1.421875 13.15625 6.1875 \nQ 5.515625 13.8125 5.515625 26.8125 \nQ 5.515625 40.234375 12.765625 48.109375 \nQ 20.015625 56 32.328125 56 \nQ 43.359375 56 49.78125 48.890625 \nQ 56.203125 41.796875 56.203125 29.59375 \nz\nM 47.21875 32.234375 \nQ 47.125 39.59375 43.09375 43.984375 \nQ 39.0625 48.390625 32.421875 48.390625 \nQ 24.90625 48.390625 20.390625 44.140625 \nQ 15.875 39.890625 15.1875 32.171875 \nz\n\" id=\"DejaVuSans-101\"/>\n       <path d=\"M 2.984375 54.6875 \nL 12.5 54.6875 \nL 29.59375 8.796875 \nL 46.6875 54.6875 \nL 56.203125 54.6875 \nL 35.6875 0 \nL 23.484375 0 \nz\n\" id=\"DejaVuSans-118\"/>\n       <path d=\"M 50.984375 -16.609375 \nL 50.984375 -23.578125 \nL -0.984375 -23.578125 \nL -0.984375 -16.609375 \nz\n\" id=\"DejaVuSans-95\"/>\n       <path d=\"M 44.28125 53.078125 \nL 44.28125 44.578125 \nQ 40.484375 46.53125 36.375 47.5 \nQ 32.28125 48.484375 27.875 48.484375 \nQ 21.1875 48.484375 17.84375 46.4375 \nQ 14.5 44.390625 14.5 40.28125 \nQ 14.5 37.15625 16.890625 35.375 \nQ 19.28125 33.59375 26.515625 31.984375 \nL 29.59375 31.296875 \nQ 39.15625 29.25 43.1875 25.515625 \nQ 47.21875 21.78125 47.21875 15.09375 \nQ 47.21875 7.46875 41.1875 3.015625 \nQ 35.15625 -1.421875 24.609375 -1.421875 \nQ 20.21875 -1.421875 15.453125 -0.5625 \nQ 10.6875 0.296875 5.421875 2 \nL 5.421875 11.28125 \nQ 10.40625 8.6875 15.234375 7.390625 \nQ 20.0625 6.109375 24.8125 6.109375 \nQ 31.15625 6.109375 34.5625 8.28125 \nQ 37.984375 10.453125 37.984375 14.40625 \nQ 37.984375 18.0625 35.515625 20.015625 \nQ 33.0625 21.96875 24.703125 23.78125 \nL 21.578125 24.515625 \nQ 13.234375 26.265625 9.515625 29.90625 \nQ 5.8125 33.546875 5.8125 39.890625 \nQ 5.8125 47.609375 11.28125 51.796875 \nQ 16.75 56 26.8125 56 \nQ 31.78125 56 36.171875 55.265625 \nQ 40.578125 54.546875 44.28125 53.078125 \nz\n\" id=\"DejaVuSans-115\"/>\n       <path d=\"M 8.5 21.578125 \nL 8.5 54.6875 \nL 17.484375 54.6875 \nL 17.484375 21.921875 \nQ 17.484375 14.15625 20.5 10.265625 \nQ 23.53125 6.390625 29.59375 6.390625 \nQ 36.859375 6.390625 41.078125 11.03125 \nQ 45.3125 15.671875 45.3125 23.6875 \nL 45.3125 54.6875 \nL 54.296875 54.6875 \nL 54.296875 0 \nL 45.3125 0 \nL 45.3125 8.40625 \nQ 42.046875 3.421875 37.71875 1 \nQ 33.40625 -1.421875 27.6875 -1.421875 \nQ 18.265625 -1.421875 13.375 4.4375 \nQ 8.5 10.296875 8.5 21.578125 \nz\nM 31.109375 56 \nz\n\" id=\"DejaVuSans-117\"/>\n       <path d=\"M 18.3125 70.21875 \nL 18.3125 54.6875 \nL 36.8125 54.6875 \nL 36.8125 47.703125 \nL 18.3125 47.703125 \nL 18.3125 18.015625 \nQ 18.3125 11.328125 20.140625 9.421875 \nQ 21.96875 7.515625 27.59375 7.515625 \nL 36.8125 7.515625 \nL 36.8125 0 \nL 27.59375 0 \nQ 17.1875 0 13.234375 3.875 \nQ 9.28125 7.765625 9.28125 18.015625 \nL 9.28125 47.703125 \nL 2.6875 47.703125 \nL 2.6875 54.6875 \nL 9.28125 54.6875 \nL 9.28125 70.21875 \nz\n\" id=\"DejaVuSans-116\"/>\n       <path d=\"M 9.421875 54.6875 \nL 18.40625 54.6875 \nL 18.40625 0 \nL 9.421875 0 \nz\nM 9.421875 75.984375 \nL 18.40625 75.984375 \nL 18.40625 64.59375 \nL 9.421875 64.59375 \nz\n\" id=\"DejaVuSans-105\"/>\n       <path d=\"M 34.28125 27.484375 \nQ 23.390625 27.484375 19.1875 25 \nQ 14.984375 22.515625 14.984375 16.5 \nQ 14.984375 11.71875 18.140625 8.90625 \nQ 21.296875 6.109375 26.703125 6.109375 \nQ 34.1875 6.109375 38.703125 11.40625 \nQ 43.21875 16.703125 43.21875 25.484375 \nL 43.21875 27.484375 \nz\nM 52.203125 31.203125 \nL 52.203125 0 \nL 43.21875 0 \nL 43.21875 8.296875 \nQ 40.140625 3.328125 35.546875 0.953125 \nQ 30.953125 -1.421875 24.3125 -1.421875 \nQ 15.921875 -1.421875 10.953125 3.296875 \nQ 6 8.015625 6 15.921875 \nQ 6 25.140625 12.171875 29.828125 \nQ 18.359375 34.515625 30.609375 34.515625 \nL 43.21875 34.515625 \nL 43.21875 35.40625 \nQ 43.21875 41.609375 39.140625 45 \nQ 35.0625 48.390625 27.6875 48.390625 \nQ 23 48.390625 18.546875 47.265625 \nQ 14.109375 46.140625 10.015625 43.890625 \nL 10.015625 52.203125 \nQ 14.9375 54.109375 19.578125 55.046875 \nQ 24.21875 56 28.609375 56 \nQ 40.484375 56 46.34375 49.84375 \nQ 52.203125 43.703125 52.203125 31.203125 \nz\n\" id=\"DejaVuSans-97\"/>\n       <path d=\"M 48.6875 27.296875 \nQ 48.6875 37.203125 44.609375 42.84375 \nQ 40.53125 48.484375 33.40625 48.484375 \nQ 26.265625 48.484375 22.1875 42.84375 \nQ 18.109375 37.203125 18.109375 27.296875 \nQ 18.109375 17.390625 22.1875 11.75 \nQ 26.265625 6.109375 33.40625 6.109375 \nQ 40.53125 6.109375 44.609375 11.75 \nQ 48.6875 17.390625 48.6875 27.296875 \nz\nM 18.109375 46.390625 \nQ 20.953125 51.265625 25.265625 53.625 \nQ 29.59375 56 35.59375 56 \nQ 45.5625 56 51.78125 48.09375 \nQ 58.015625 40.1875 58.015625 27.296875 \nQ 58.015625 14.40625 51.78125 6.484375 \nQ 45.5625 -1.421875 35.59375 -1.421875 \nQ 29.59375 -1.421875 25.265625 0.953125 \nQ 20.953125 3.328125 18.109375 8.203125 \nL 18.109375 0 \nL 9.078125 0 \nL 9.078125 75.984375 \nL 18.109375 75.984375 \nz\n\" id=\"DejaVuSans-98\"/>\n      </defs>\n      <g transform=\"translate(104.790625 217.567219)scale(0.1 -0.1)\">\n       <use xlink:href=\"#DejaVuSans-101\"/>\n       <use x=\"61.523438\" xlink:href=\"#DejaVuSans-118\"/>\n       <use x=\"120.703125\" xlink:href=\"#DejaVuSans-95\"/>\n       <use x=\"170.703125\" xlink:href=\"#DejaVuSans-115\"/>\n       <use x=\"222.802734\" xlink:href=\"#DejaVuSans-117\"/>\n       <use x=\"286.181641\" xlink:href=\"#DejaVuSans-116\"/>\n       <use x=\"325.390625\" xlink:href=\"#DejaVuSans-95\"/>\n       <use x=\"375.390625\" xlink:href=\"#DejaVuSans-105\"/>\n       <use x=\"403.173828\" xlink:href=\"#DejaVuSans-115\"/>\n       <use x=\"455.273438\" xlink:href=\"#DejaVuSans-97\"/>\n       <use x=\"516.552734\" xlink:href=\"#DejaVuSans-98\"/>\n       <use x=\"580.029297\" xlink:href=\"#DejaVuSans-101\"/>\n       <use x=\"641.552734\" xlink:href=\"#DejaVuSans-116\"/>\n       <use x=\"680.761719\" xlink:href=\"#DejaVuSans-105\"/>\n      </g>\n     </g>\n    </g>\n    <g id=\"ytick_2\">\n     <g id=\"line2d_8\">\n      <g>\n       <use style=\"stroke:#000000;stroke-width:0.8;\" x=\"182.645312\" xlink:href=\"#m3caa5501a6\" y=\"192.024\"/>\n      </g>\n     </g>\n     <g id=\"text_8\">\n      <!-- dep_uzaklastirma -->\n      <defs>\n       <path d=\"M 45.40625 46.390625 \nL 45.40625 75.984375 \nL 54.390625 75.984375 \nL 54.390625 0 \nL 45.40625 0 \nL 45.40625 8.203125 \nQ 42.578125 3.328125 38.25 0.953125 \nQ 33.9375 -1.421875 27.875 -1.421875 \nQ 17.96875 -1.421875 11.734375 6.484375 \nQ 5.515625 14.40625 5.515625 27.296875 \nQ 5.515625 40.1875 11.734375 48.09375 \nQ 17.96875 56 27.875 56 \nQ 33.9375 56 38.25 53.625 \nQ 42.578125 51.265625 45.40625 46.390625 \nz\nM 14.796875 27.296875 \nQ 14.796875 17.390625 18.875 11.75 \nQ 22.953125 6.109375 30.078125 6.109375 \nQ 37.203125 6.109375 41.296875 11.75 \nQ 45.40625 17.390625 45.40625 27.296875 \nQ 45.40625 37.203125 41.296875 42.84375 \nQ 37.203125 48.484375 30.078125 48.484375 \nQ 22.953125 48.484375 18.875 42.84375 \nQ 14.796875 37.203125 14.796875 27.296875 \nz\n\" id=\"DejaVuSans-100\"/>\n       <path d=\"M 18.109375 8.203125 \nL 18.109375 -20.796875 \nL 9.078125 -20.796875 \nL 9.078125 54.6875 \nL 18.109375 54.6875 \nL 18.109375 46.390625 \nQ 20.953125 51.265625 25.265625 53.625 \nQ 29.59375 56 35.59375 56 \nQ 45.5625 56 51.78125 48.09375 \nQ 58.015625 40.1875 58.015625 27.296875 \nQ 58.015625 14.40625 51.78125 6.484375 \nQ 45.5625 -1.421875 35.59375 -1.421875 \nQ 29.59375 -1.421875 25.265625 0.953125 \nQ 20.953125 3.328125 18.109375 8.203125 \nz\nM 48.6875 27.296875 \nQ 48.6875 37.203125 44.609375 42.84375 \nQ 40.53125 48.484375 33.40625 48.484375 \nQ 26.265625 48.484375 22.1875 42.84375 \nQ 18.109375 37.203125 18.109375 27.296875 \nQ 18.109375 17.390625 22.1875 11.75 \nQ 26.265625 6.109375 33.40625 6.109375 \nQ 40.53125 6.109375 44.609375 11.75 \nQ 48.6875 17.390625 48.6875 27.296875 \nz\n\" id=\"DejaVuSans-112\"/>\n       <path d=\"M 5.515625 54.6875 \nL 48.1875 54.6875 \nL 48.1875 46.484375 \nL 14.40625 7.171875 \nL 48.1875 7.171875 \nL 48.1875 0 \nL 4.296875 0 \nL 4.296875 8.203125 \nL 38.09375 47.515625 \nL 5.515625 47.515625 \nz\n\" id=\"DejaVuSans-122\"/>\n       <path d=\"M 9.078125 75.984375 \nL 18.109375 75.984375 \nL 18.109375 31.109375 \nL 44.921875 54.6875 \nL 56.390625 54.6875 \nL 27.390625 29.109375 \nL 57.625 0 \nL 45.90625 0 \nL 18.109375 26.703125 \nL 18.109375 0 \nL 9.078125 0 \nz\n\" id=\"DejaVuSans-107\"/>\n       <path d=\"M 9.421875 75.984375 \nL 18.40625 75.984375 \nL 18.40625 0 \nL 9.421875 0 \nz\n\" id=\"DejaVuSans-108\"/>\n       <path d=\"M 41.109375 46.296875 \nQ 39.59375 47.171875 37.8125 47.578125 \nQ 36.03125 48 33.890625 48 \nQ 26.265625 48 22.1875 43.046875 \nQ 18.109375 38.09375 18.109375 28.8125 \nL 18.109375 0 \nL 9.078125 0 \nL 9.078125 54.6875 \nL 18.109375 54.6875 \nL 18.109375 46.1875 \nQ 20.953125 51.171875 25.484375 53.578125 \nQ 30.03125 56 36.53125 56 \nQ 37.453125 56 38.578125 55.875 \nQ 39.703125 55.765625 41.0625 55.515625 \nz\n\" id=\"DejaVuSans-114\"/>\n       <path d=\"M 52 44.1875 \nQ 55.375 50.25 60.0625 53.125 \nQ 64.75 56 71.09375 56 \nQ 79.640625 56 84.28125 50.015625 \nQ 88.921875 44.046875 88.921875 33.015625 \nL 88.921875 0 \nL 79.890625 0 \nL 79.890625 32.71875 \nQ 79.890625 40.578125 77.09375 44.375 \nQ 74.3125 48.1875 68.609375 48.1875 \nQ 61.625 48.1875 57.5625 43.546875 \nQ 53.515625 38.921875 53.515625 30.90625 \nL 53.515625 0 \nL 44.484375 0 \nL 44.484375 32.71875 \nQ 44.484375 40.625 41.703125 44.40625 \nQ 38.921875 48.1875 33.109375 48.1875 \nQ 26.21875 48.1875 22.15625 43.53125 \nQ 18.109375 38.875 18.109375 30.90625 \nL 18.109375 0 \nL 9.078125 0 \nL 9.078125 54.6875 \nL 18.109375 54.6875 \nL 18.109375 46.1875 \nQ 21.1875 51.21875 25.484375 53.609375 \nQ 29.78125 56 35.6875 56 \nQ 41.65625 56 45.828125 52.96875 \nQ 50 49.953125 52 44.1875 \nz\n\" id=\"DejaVuSans-109\"/>\n      </defs>\n      <g transform=\"translate(87.498437 195.823219)scale(0.1 -0.1)\">\n       <use xlink:href=\"#DejaVuSans-100\"/>\n       <use x=\"63.476562\" xlink:href=\"#DejaVuSans-101\"/>\n       <use x=\"125\" xlink:href=\"#DejaVuSans-112\"/>\n       <use x=\"188.476562\" xlink:href=\"#DejaVuSans-95\"/>\n       <use x=\"238.476562\" xlink:href=\"#DejaVuSans-117\"/>\n       <use x=\"301.855469\" xlink:href=\"#DejaVuSans-122\"/>\n       <use x=\"354.345703\" xlink:href=\"#DejaVuSans-97\"/>\n       <use x=\"415.625\" xlink:href=\"#DejaVuSans-107\"/>\n       <use x=\"473.535156\" xlink:href=\"#DejaVuSans-108\"/>\n       <use x=\"501.318359\" xlink:href=\"#DejaVuSans-97\"/>\n       <use x=\"562.597656\" xlink:href=\"#DejaVuSans-115\"/>\n       <use x=\"614.697266\" xlink:href=\"#DejaVuSans-116\"/>\n       <use x=\"653.90625\" xlink:href=\"#DejaVuSans-105\"/>\n       <use x=\"681.689453\" xlink:href=\"#DejaVuSans-114\"/>\n       <use x=\"722.787109\" xlink:href=\"#DejaVuSans-109\"/>\n       <use x=\"820.199219\" xlink:href=\"#DejaVuSans-97\"/>\n      </g>\n     </g>\n    </g>\n    <g id=\"ytick_3\">\n     <g id=\"line2d_9\">\n      <g>\n       <use style=\"stroke:#000000;stroke-width:0.8;\" x=\"182.645312\" xlink:href=\"#m3caa5501a6\" y=\"170.28\"/>\n      </g>\n     </g>\n     <g id=\"text_9\">\n      <!-- dep_sut_isabeti -->\n      <g transform=\"translate(98.0125 174.079219)scale(0.1 -0.1)\">\n       <use xlink:href=\"#DejaVuSans-100\"/>\n       <use x=\"63.476562\" xlink:href=\"#DejaVuSans-101\"/>\n       <use x=\"125\" xlink:href=\"#DejaVuSans-112\"/>\n       <use x=\"188.476562\" xlink:href=\"#DejaVuSans-95\"/>\n       <use x=\"238.476562\" xlink:href=\"#DejaVuSans-115\"/>\n       <use x=\"290.576172\" xlink:href=\"#DejaVuSans-117\"/>\n       <use x=\"353.955078\" xlink:href=\"#DejaVuSans-116\"/>\n       <use x=\"393.164062\" xlink:href=\"#DejaVuSans-95\"/>\n       <use x=\"443.164062\" xlink:href=\"#DejaVuSans-105\"/>\n       <use x=\"470.947266\" xlink:href=\"#DejaVuSans-115\"/>\n       <use x=\"523.046875\" xlink:href=\"#DejaVuSans-97\"/>\n       <use x=\"584.326172\" xlink:href=\"#DejaVuSans-98\"/>\n       <use x=\"647.802734\" xlink:href=\"#DejaVuSans-101\"/>\n       <use x=\"709.326172\" xlink:href=\"#DejaVuSans-116\"/>\n       <use x=\"748.535156\" xlink:href=\"#DejaVuSans-105\"/>\n      </g>\n     </g>\n    </g>\n    <g id=\"ytick_4\">\n     <g id=\"line2d_10\">\n      <g>\n       <use style=\"stroke:#000000;stroke-width:0.8;\" x=\"182.645312\" xlink:href=\"#m3caa5501a6\" y=\"148.536\"/>\n      </g>\n     </g>\n     <g id=\"text_10\">\n      <!-- ev_isabetli_sut -->\n      <g transform=\"translate(102.0125 152.335219)scale(0.1 -0.1)\">\n       <use xlink:href=\"#DejaVuSans-101\"/>\n       <use x=\"61.523438\" xlink:href=\"#DejaVuSans-118\"/>\n       <use x=\"120.703125\" xlink:href=\"#DejaVuSans-95\"/>\n       <use x=\"170.703125\" xlink:href=\"#DejaVuSans-105\"/>\n       <use x=\"198.486328\" xlink:href=\"#DejaVuSans-115\"/>\n       <use x=\"250.585938\" xlink:href=\"#DejaVuSans-97\"/>\n       <use x=\"311.865234\" xlink:href=\"#DejaVuSans-98\"/>\n       <use x=\"375.341797\" xlink:href=\"#DejaVuSans-101\"/>\n       <use x=\"436.865234\" xlink:href=\"#DejaVuSans-116\"/>\n       <use x=\"476.074219\" xlink:href=\"#DejaVuSans-108\"/>\n       <use x=\"503.857422\" xlink:href=\"#DejaVuSans-105\"/>\n       <use x=\"531.640625\" xlink:href=\"#DejaVuSans-95\"/>\n       <use x=\"581.640625\" xlink:href=\"#DejaVuSans-115\"/>\n       <use x=\"633.740234\" xlink:href=\"#DejaVuSans-117\"/>\n       <use x=\"697.119141\" xlink:href=\"#DejaVuSans-116\"/>\n      </g>\n     </g>\n    </g>\n    <g id=\"ytick_5\">\n     <g id=\"line2d_11\">\n      <g>\n       <use style=\"stroke:#000000;stroke-width:0.8;\" x=\"182.645312\" xlink:href=\"#m3caa5501a6\" y=\"126.792\"/>\n      </g>\n     </g>\n     <g id=\"text_11\">\n      <!-- dep_isabetli_sut -->\n      <g transform=\"translate(95.234375 130.591219)scale(0.1 -0.1)\">\n       <use xlink:href=\"#DejaVuSans-100\"/>\n       <use x=\"63.476562\" xlink:href=\"#DejaVuSans-101\"/>\n       <use x=\"125\" xlink:href=\"#DejaVuSans-112\"/>\n       <use x=\"188.476562\" xlink:href=\"#DejaVuSans-95\"/>\n       <use x=\"238.476562\" xlink:href=\"#DejaVuSans-105\"/>\n       <use x=\"266.259766\" xlink:href=\"#DejaVuSans-115\"/>\n       <use x=\"318.359375\" xlink:href=\"#DejaVuSans-97\"/>\n       <use x=\"379.638672\" xlink:href=\"#DejaVuSans-98\"/>\n       <use x=\"443.115234\" xlink:href=\"#DejaVuSans-101\"/>\n       <use x=\"504.638672\" xlink:href=\"#DejaVuSans-116\"/>\n       <use x=\"543.847656\" xlink:href=\"#DejaVuSans-108\"/>\n       <use x=\"571.630859\" xlink:href=\"#DejaVuSans-105\"/>\n       <use x=\"599.414062\" xlink:href=\"#DejaVuSans-95\"/>\n       <use x=\"649.414062\" xlink:href=\"#DejaVuSans-115\"/>\n       <use x=\"701.513672\" xlink:href=\"#DejaVuSans-117\"/>\n       <use x=\"764.892578\" xlink:href=\"#DejaVuSans-116\"/>\n      </g>\n     </g>\n    </g>\n    <g id=\"ytick_6\">\n     <g id=\"line2d_12\">\n      <g>\n       <use style=\"stroke:#000000;stroke-width:0.8;\" x=\"182.645312\" xlink:href=\"#m3caa5501a6\" y=\"105.048\"/>\n      </g>\n     </g>\n     <g id=\"text_12\">\n      <!-- ev_orta -->\n      <defs>\n       <path d=\"M 30.609375 48.390625 \nQ 23.390625 48.390625 19.1875 42.75 \nQ 14.984375 37.109375 14.984375 27.296875 \nQ 14.984375 17.484375 19.15625 11.84375 \nQ 23.34375 6.203125 30.609375 6.203125 \nQ 37.796875 6.203125 41.984375 11.859375 \nQ 46.1875 17.53125 46.1875 27.296875 \nQ 46.1875 37.015625 41.984375 42.703125 \nQ 37.796875 48.390625 30.609375 48.390625 \nz\nM 30.609375 56 \nQ 42.328125 56 49.015625 48.375 \nQ 55.71875 40.765625 55.71875 27.296875 \nQ 55.71875 13.875 49.015625 6.21875 \nQ 42.328125 -1.421875 30.609375 -1.421875 \nQ 18.84375 -1.421875 12.171875 6.21875 \nQ 5.515625 13.875 5.515625 27.296875 \nQ 5.515625 40.765625 12.171875 48.375 \nQ 18.84375 56 30.609375 56 \nz\n\" id=\"DejaVuSans-111\"/>\n      </defs>\n      <g transform=\"translate(138.295312 108.708156)scale(0.1 -0.1)\">\n       <use xlink:href=\"#DejaVuSans-101\"/>\n       <use x=\"61.523438\" xlink:href=\"#DejaVuSans-118\"/>\n       <use x=\"120.703125\" xlink:href=\"#DejaVuSans-95\"/>\n       <use x=\"170.703125\" xlink:href=\"#DejaVuSans-111\"/>\n       <use x=\"231.884766\" xlink:href=\"#DejaVuSans-114\"/>\n       <use x=\"272.998047\" xlink:href=\"#DejaVuSans-116\"/>\n       <use x=\"312.207031\" xlink:href=\"#DejaVuSans-97\"/>\n      </g>\n     </g>\n    </g>\n    <g id=\"ytick_7\">\n     <g id=\"line2d_13\">\n      <g>\n       <use style=\"stroke:#000000;stroke-width:0.8;\" x=\"182.645312\" xlink:href=\"#m3caa5501a6\" y=\"83.304\"/>\n      </g>\n     </g>\n     <g id=\"text_13\">\n      <!-- ev_uzaklastirma -->\n      <g transform=\"translate(94.276562 87.103219)scale(0.1 -0.1)\">\n       <use xlink:href=\"#DejaVuSans-101\"/>\n       <use x=\"61.523438\" xlink:href=\"#DejaVuSans-118\"/>\n       <use x=\"120.703125\" xlink:href=\"#DejaVuSans-95\"/>\n       <use x=\"170.703125\" xlink:href=\"#DejaVuSans-117\"/>\n       <use x=\"234.082031\" xlink:href=\"#DejaVuSans-122\"/>\n       <use x=\"286.572266\" xlink:href=\"#DejaVuSans-97\"/>\n       <use x=\"347.851562\" xlink:href=\"#DejaVuSans-107\"/>\n       <use x=\"405.761719\" xlink:href=\"#DejaVuSans-108\"/>\n       <use x=\"433.544922\" xlink:href=\"#DejaVuSans-97\"/>\n       <use x=\"494.824219\" xlink:href=\"#DejaVuSans-115\"/>\n       <use x=\"546.923828\" xlink:href=\"#DejaVuSans-116\"/>\n       <use x=\"586.132812\" xlink:href=\"#DejaVuSans-105\"/>\n       <use x=\"613.916016\" xlink:href=\"#DejaVuSans-114\"/>\n       <use x=\"655.013672\" xlink:href=\"#DejaVuSans-109\"/>\n       <use x=\"752.425781\" xlink:href=\"#DejaVuSans-97\"/>\n      </g>\n     </g>\n    </g>\n    <g id=\"ytick_8\">\n     <g id=\"line2d_14\">\n      <g>\n       <use style=\"stroke:#000000;stroke-width:0.8;\" x=\"182.645312\" xlink:href=\"#m3caa5501a6\" y=\"61.56\"/>\n      </g>\n     </g>\n     <g id=\"text_14\">\n      <!-- ev_rakip_yari_sahada_pas_isabeti -->\n      <defs>\n       <path d=\"M 32.171875 -5.078125 \nQ 28.375 -14.84375 24.75 -17.8125 \nQ 21.140625 -20.796875 15.09375 -20.796875 \nL 7.90625 -20.796875 \nL 7.90625 -13.28125 \nL 13.1875 -13.28125 \nQ 16.890625 -13.28125 18.9375 -11.515625 \nQ 21 -9.765625 23.484375 -3.21875 \nL 25.09375 0.875 \nL 2.984375 54.6875 \nL 12.5 54.6875 \nL 29.59375 11.921875 \nL 46.6875 54.6875 \nL 56.203125 54.6875 \nz\n\" id=\"DejaVuSans-121\"/>\n       <path d=\"M 54.890625 33.015625 \nL 54.890625 0 \nL 45.90625 0 \nL 45.90625 32.71875 \nQ 45.90625 40.484375 42.875 44.328125 \nQ 39.84375 48.1875 33.796875 48.1875 \nQ 26.515625 48.1875 22.3125 43.546875 \nQ 18.109375 38.921875 18.109375 30.90625 \nL 18.109375 0 \nL 9.078125 0 \nL 9.078125 75.984375 \nL 18.109375 75.984375 \nL 18.109375 46.1875 \nQ 21.34375 51.125 25.703125 53.5625 \nQ 30.078125 56 35.796875 56 \nQ 45.21875 56 50.046875 50.171875 \nQ 54.890625 44.34375 54.890625 33.015625 \nz\n\" id=\"DejaVuSans-104\"/>\n      </defs>\n      <g transform=\"translate(7.2 65.359219)scale(0.1 -0.1)\">\n       <use xlink:href=\"#DejaVuSans-101\"/>\n       <use x=\"61.523438\" xlink:href=\"#DejaVuSans-118\"/>\n       <use x=\"120.703125\" xlink:href=\"#DejaVuSans-95\"/>\n       <use x=\"170.703125\" xlink:href=\"#DejaVuSans-114\"/>\n       <use x=\"211.816406\" xlink:href=\"#DejaVuSans-97\"/>\n       <use x=\"273.095703\" xlink:href=\"#DejaVuSans-107\"/>\n       <use x=\"331.005859\" xlink:href=\"#DejaVuSans-105\"/>\n       <use x=\"358.789062\" xlink:href=\"#DejaVuSans-112\"/>\n       <use x=\"422.265625\" xlink:href=\"#DejaVuSans-95\"/>\n       <use x=\"472.265625\" xlink:href=\"#DejaVuSans-121\"/>\n       <use x=\"531.445312\" xlink:href=\"#DejaVuSans-97\"/>\n       <use x=\"592.724609\" xlink:href=\"#DejaVuSans-114\"/>\n       <use x=\"633.837891\" xlink:href=\"#DejaVuSans-105\"/>\n       <use x=\"661.621094\" xlink:href=\"#DejaVuSans-95\"/>\n       <use x=\"711.621094\" xlink:href=\"#DejaVuSans-115\"/>\n       <use x=\"763.720703\" xlink:href=\"#DejaVuSans-97\"/>\n       <use x=\"825\" xlink:href=\"#DejaVuSans-104\"/>\n       <use x=\"888.378906\" xlink:href=\"#DejaVuSans-97\"/>\n       <use x=\"949.658203\" xlink:href=\"#DejaVuSans-100\"/>\n       <use x=\"1013.134766\" xlink:href=\"#DejaVuSans-97\"/>\n       <use x=\"1074.414062\" xlink:href=\"#DejaVuSans-95\"/>\n       <use x=\"1124.414062\" xlink:href=\"#DejaVuSans-112\"/>\n       <use x=\"1187.890625\" xlink:href=\"#DejaVuSans-97\"/>\n       <use x=\"1249.169922\" xlink:href=\"#DejaVuSans-115\"/>\n       <use x=\"1301.269531\" xlink:href=\"#DejaVuSans-95\"/>\n       <use x=\"1351.269531\" xlink:href=\"#DejaVuSans-105\"/>\n       <use x=\"1379.052734\" xlink:href=\"#DejaVuSans-115\"/>\n       <use x=\"1431.152344\" xlink:href=\"#DejaVuSans-97\"/>\n       <use x=\"1492.431641\" xlink:href=\"#DejaVuSans-98\"/>\n       <use x=\"1555.908203\" xlink:href=\"#DejaVuSans-101\"/>\n       <use x=\"1617.431641\" xlink:href=\"#DejaVuSans-116\"/>\n       <use x=\"1656.640625\" xlink:href=\"#DejaVuSans-105\"/>\n      </g>\n     </g>\n    </g>\n    <g id=\"ytick_9\">\n     <g id=\"line2d_15\">\n      <g>\n       <use style=\"stroke:#000000;stroke-width:0.8;\" x=\"182.645312\" xlink:href=\"#m3caa5501a6\" y=\"39.816\"/>\n      </g>\n     </g>\n     <g id=\"text_15\">\n      <!-- dep_uzun_pas -->\n      <defs>\n       <path d=\"M 54.890625 33.015625 \nL 54.890625 0 \nL 45.90625 0 \nL 45.90625 32.71875 \nQ 45.90625 40.484375 42.875 44.328125 \nQ 39.84375 48.1875 33.796875 48.1875 \nQ 26.515625 48.1875 22.3125 43.546875 \nQ 18.109375 38.921875 18.109375 30.90625 \nL 18.109375 0 \nL 9.078125 0 \nL 9.078125 54.6875 \nL 18.109375 54.6875 \nL 18.109375 46.1875 \nQ 21.34375 51.125 25.703125 53.5625 \nQ 30.078125 56 35.796875 56 \nQ 45.21875 56 50.046875 50.171875 \nQ 54.890625 44.34375 54.890625 33.015625 \nz\n\" id=\"DejaVuSans-110\"/>\n      </defs>\n      <g transform=\"translate(104.848437 43.615219)scale(0.1 -0.1)\">\n       <use xlink:href=\"#DejaVuSans-100\"/>\n       <use x=\"63.476562\" xlink:href=\"#DejaVuSans-101\"/>\n       <use x=\"125\" xlink:href=\"#DejaVuSans-112\"/>\n       <use x=\"188.476562\" xlink:href=\"#DejaVuSans-95\"/>\n       <use x=\"238.476562\" xlink:href=\"#DejaVuSans-117\"/>\n       <use x=\"301.855469\" xlink:href=\"#DejaVuSans-122\"/>\n       <use x=\"354.345703\" xlink:href=\"#DejaVuSans-117\"/>\n       <use x=\"417.724609\" xlink:href=\"#DejaVuSans-110\"/>\n       <use x=\"481.103516\" xlink:href=\"#DejaVuSans-95\"/>\n       <use x=\"531.103516\" xlink:href=\"#DejaVuSans-112\"/>\n       <use x=\"594.580078\" xlink:href=\"#DejaVuSans-97\"/>\n       <use x=\"655.859375\" xlink:href=\"#DejaVuSans-115\"/>\n      </g>\n     </g>\n    </g>\n    <g id=\"ytick_10\">\n     <g id=\"line2d_16\">\n      <g>\n       <use style=\"stroke:#000000;stroke-width:0.8;\" x=\"182.645312\" xlink:href=\"#m3caa5501a6\" y=\"18.072\"/>\n      </g>\n     </g>\n     <g id=\"text_16\">\n      <!-- ev_ceza_sahasinin_icinden_sut -->\n      <defs>\n       <path d=\"M 48.78125 52.59375 \nL 48.78125 44.1875 \nQ 44.96875 46.296875 41.140625 47.34375 \nQ 37.3125 48.390625 33.40625 48.390625 \nQ 24.65625 48.390625 19.8125 42.84375 \nQ 14.984375 37.3125 14.984375 27.296875 \nQ 14.984375 17.28125 19.8125 11.734375 \nQ 24.65625 6.203125 33.40625 6.203125 \nQ 37.3125 6.203125 41.140625 7.25 \nQ 44.96875 8.296875 48.78125 10.40625 \nL 48.78125 2.09375 \nQ 45.015625 0.34375 40.984375 -0.53125 \nQ 36.96875 -1.421875 32.421875 -1.421875 \nQ 20.0625 -1.421875 12.78125 6.34375 \nQ 5.515625 14.109375 5.515625 27.296875 \nQ 5.515625 40.671875 12.859375 48.328125 \nQ 20.21875 56 33.015625 56 \nQ 37.15625 56 41.109375 55.140625 \nQ 45.0625 54.296875 48.78125 52.59375 \nz\n\" id=\"DejaVuSans-99\"/>\n      </defs>\n      <g transform=\"translate(21.603125 21.871219)scale(0.1 -0.1)\">\n       <use xlink:href=\"#DejaVuSans-101\"/>\n       <use x=\"61.523438\" xlink:href=\"#DejaVuSans-118\"/>\n       <use x=\"120.703125\" xlink:href=\"#DejaVuSans-95\"/>\n       <use x=\"170.703125\" xlink:href=\"#DejaVuSans-99\"/>\n       <use x=\"225.683594\" xlink:href=\"#DejaVuSans-101\"/>\n       <use x=\"287.207031\" xlink:href=\"#DejaVuSans-122\"/>\n       <use x=\"339.697266\" xlink:href=\"#DejaVuSans-97\"/>\n       <use x=\"400.976562\" xlink:href=\"#DejaVuSans-95\"/>\n       <use x=\"450.976562\" xlink:href=\"#DejaVuSans-115\"/>\n       <use x=\"503.076172\" xlink:href=\"#DejaVuSans-97\"/>\n       <use x=\"564.355469\" xlink:href=\"#DejaVuSans-104\"/>\n       <use x=\"627.734375\" xlink:href=\"#DejaVuSans-97\"/>\n       <use x=\"689.013672\" xlink:href=\"#DejaVuSans-115\"/>\n       <use x=\"741.113281\" xlink:href=\"#DejaVuSans-105\"/>\n       <use x=\"768.896484\" xlink:href=\"#DejaVuSans-110\"/>\n       <use x=\"832.275391\" xlink:href=\"#DejaVuSans-105\"/>\n       <use x=\"860.058594\" xlink:href=\"#DejaVuSans-110\"/>\n       <use x=\"923.4375\" xlink:href=\"#DejaVuSans-95\"/>\n       <use x=\"973.4375\" xlink:href=\"#DejaVuSans-105\"/>\n       <use x=\"1001.220703\" xlink:href=\"#DejaVuSans-99\"/>\n       <use x=\"1056.201172\" xlink:href=\"#DejaVuSans-105\"/>\n       <use x=\"1083.984375\" xlink:href=\"#DejaVuSans-110\"/>\n       <use x=\"1147.363281\" xlink:href=\"#DejaVuSans-100\"/>\n       <use x=\"1210.839844\" xlink:href=\"#DejaVuSans-101\"/>\n       <use x=\"1272.363281\" xlink:href=\"#DejaVuSans-110\"/>\n       <use x=\"1335.742188\" xlink:href=\"#DejaVuSans-95\"/>\n       <use x=\"1385.742188\" xlink:href=\"#DejaVuSans-115\"/>\n       <use x=\"1437.841797\" xlink:href=\"#DejaVuSans-117\"/>\n       <use x=\"1501.220703\" xlink:href=\"#DejaVuSans-116\"/>\n      </g>\n     </g>\n    </g>\n   </g>\n   <g id=\"patch_13\">\n    <path d=\"M 182.645312 224.64 \nL 182.645312 7.2 \n\" style=\"fill:none;stroke:#000000;stroke-linecap:square;stroke-linejoin:miter;stroke-width:0.8;\"/>\n   </g>\n   <g id=\"patch_14\">\n    <path d=\"M 517.445312 224.64 \nL 517.445312 7.2 \n\" style=\"fill:none;stroke:#000000;stroke-linecap:square;stroke-linejoin:miter;stroke-width:0.8;\"/>\n   </g>\n   <g id=\"patch_15\">\n    <path d=\"M 182.645312 224.64 \nL 517.445312 224.64 \n\" style=\"fill:none;stroke:#000000;stroke-linecap:square;stroke-linejoin:miter;stroke-width:0.8;\"/>\n   </g>\n   <g id=\"patch_16\">\n    <path d=\"M 182.645312 7.2 \nL 517.445312 7.2 \n\" style=\"fill:none;stroke:#000000;stroke-linecap:square;stroke-linejoin:miter;stroke-width:0.8;\"/>\n   </g>\n  </g>\n </g>\n <defs>\n  <clipPath id=\"p7fd6b9b3fe\">\n   <rect height=\"217.44\" width=\"334.8\" x=\"182.645312\" y=\"7.2\"/>\n  </clipPath>\n </defs>\n</svg>\n",
      "image/png": "[encoded data removed]"
     },
     "metadata": {
      "needs_background": "light"
     }
    }
   ],
   "source": [
    "feature_imp.nlargest(10).plot(kind='barh')"
   ]
  },
  {
   "cell_type": "code",
   "execution_count": 41,
   "metadata": {},
   "outputs": [],
   "source": [
    "best_feature = feature_imp.nlargest(6).index.to_list()"
   ]
  },
  {
   "cell_type": "code",
   "execution_count": 42,
   "metadata": {},
   "outputs": [],
   "source": [
    "x_reduced = x[best_feature]"
   ]
  },
  {
   "cell_type": "code",
   "execution_count": 43,
   "metadata": {},
   "outputs": [],
   "source": [
    "xr_scaled = StandardScaler().fit_transform(x_reduced)"
   ]
  },
  {
   "cell_type": "code",
   "execution_count": 44,
   "metadata": {},
   "outputs": [],
   "source": [
    "Xr_train, Xr_test, yr_train, yr_test = train_test_split(xr_scaled,y,test_size=0.2)"
   ]
  },
  {
   "cell_type": "code",
   "execution_count": 45,
   "metadata": {
    "tags": []
   },
   "outputs": [
    {
     "output_type": "stream",
     "name": "stdout",
     "text": "2.4847820000000027\n"
    }
   ],
   "source": [
    "start = time.process_time()\n",
    "rmodel = RandomForestClassifier(n_estimators=700).fit(Xr_train,yr_train)\n",
    "print(time.process_time()-start)"
   ]
  },
  {
   "cell_type": "code",
   "execution_count": 46,
   "metadata": {
    "tags": []
   },
   "outputs": [
    {
     "output_type": "stream",
     "name": "stdout",
     "text": "[[ 94  22   6]\n [  2 211   9]\n [  6   8 118]]\n              precision    recall  f1-score   support\n\n           0       0.92      0.77      0.84       122\n           1       0.88      0.95      0.91       222\n           2       0.89      0.89      0.89       132\n\n    accuracy                           0.89       476\n   macro avg       0.89      0.87      0.88       476\nweighted avg       0.89      0.89      0.89       476\n\n"
    }
   ],
   "source": [
    "rpred = rmodel.predict(Xr_test)\n",
    "print(confusion_matrix(yr_test,rpred))\n",
    "print(classification_report(yr_test,rpred))"
   ]
  },
  {
   "cell_type": "code",
   "execution_count": null,
   "metadata": {},
   "outputs": [],
   "source": []
  }
 ],
 "metadata": {
  "language_info": {
   "codemirror_mode": {
    "name": "ipython",
    "version": 3
   },
   "file_extension": ".py",
   "mimetype": "text/x-python",
   "name": "python",
   "nbconvert_exporter": "python",
   "pygments_lexer": "ipython3",
   "version": "3.7.6-final"
  },
  "orig_nbformat": 2,
  "kernelspec": {
   "name": "python37664bitbasecondaa889cefbcc0347a9abb234d92d32628e",
   "display_name": "Python 3.7.6 64-bit ('base': conda)"
  }
 },
 "nbformat": 4,
 "nbformat_minor": 2
}