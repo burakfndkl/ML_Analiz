{
 "metadata": {
  "language_info": {
   "codemirror_mode": {
    "name": "ipython",
    "version": 3
   },
   "file_extension": ".py",
   "mimetype": "text/x-python",
   "name": "python",
   "nbconvert_exporter": "python",
   "pygments_lexer": "ipython3",
   "version": "3.7.6-final"
  },
  "orig_nbformat": 2,
  "kernelspec": {
   "name": "python37664bitbasecondaa889cefbcc0347a9abb234d92d32628e",
   "display_name": "Python 3.7.6 64-bit ('base': conda)"
  }
 },
 "nbformat": 4,
 "nbformat_minor": 2,
 "cells": [
  {
   "cell_type": "code",
   "execution_count": 1,
   "metadata": {},
   "outputs": [],
   "source": [
    "import pandas as pd\n",
    "import seaborn as sns\n",
    "df= pd.read_csv('/Users/burakfindikli/Documents/repos/ML_Analiz/data/2018-2019_tsl.csv',index_col = False)\n",
    "df2=pd.read_csv('/Users/burakfindikli/Documents/repos/ML_Analiz/data/2018-2019_tsl.csv',index_col = False)"
   ]
  },
  {
   "cell_type": "code",
   "execution_count": 2,
   "metadata": {},
   "outputs": [],
   "source": [
    "#  2017-2018 ile 2018-2019 sezonunun Maçlarını birleştirdim\n",
    "df3=pd.concat([df, df2], ignore_index=True)\n"
   ]
  },
  {
   "cell_type": "code",
   "execution_count": 3,
   "metadata": {},
   "outputs": [],
   "source": [
    "#Maçı ev sahibi kazandıysa 1 beraberlik olduysa 0 deplasman takımı kazandıysa 2 diye kodladım.\n",
    "df3[\"kazanan_dep\"]=df3.ev_sonuc < df3.dep_sonuc\n",
    "df3.kazanan_dep = df3.kazanan_dep.astype(int)*2\n",
    "\n",
    "df3[\"kazanan_ev\"] = df3.ev_sonuc > df3.dep_sonuc\n",
    "df3.kazanan_ev = df3.kazanan_ev.astype(int)\n",
    "\n",
    "df3[\"kazanan_berabere\"] = df3.ev_sonuc == df3.dep_sonuc\n",
    "df3.kazanan_berabere = df3.kazanan_berabere.astype(int)*0\n",
    "\n",
    "df3[\"sonuc\"]=df3.kazanan_dep+df3.kazanan_ev+df3.kazanan_berabere\n",
    "df3=df3.drop(['kazanan_dep', 'kazanan_ev','kazanan_berabere','ev_gol','dep_gol'], axis=1)\n",
    "del(df,df2)"
   ]
  },
  {
   "cell_type": "code",
   "execution_count": 4,
   "metadata": {},
   "outputs": [],
   "source": [
    "#bu değişkenlerde % ve , var temizleme yapmam lazım\n",
    "col=['ev_topla_oynama','ev_ikili_mucadele_kazanma','ev_hava_topu','dep_topla_oynama','dep_ikili_mucadele_kazanma','dep_hava_topu','ev_pas_isabet','ev_rakip_yari_sahada_pas_isabeti','ev_orta_istabeti','dep_pas_isabet','dep_rakip_yari_sahada_pas_isabeti','dep_orta_istabeti','ev_sut_isabeti','dep_sut_isabeti','ev_top_kapma_basarisi','dep_top_kapma_basarisi']"
   ]
  },
  {
   "cell_type": "code",
   "execution_count": 5,
   "metadata": {},
   "outputs": [],
   "source": [
    "# col değişkenindeki % , gibi karakterleri replace ettim\n",
    "k=0\n",
    "while k < df3[col].shape[1]:\n",
    "    df3[col[k]] = df3[col[k]].str.replace(\",\",\".\")\n",
    "    df3[col[k]] = df3[col[k]].str.replace(\"%\",\"\")\n",
    "    k+=1"
   ]
  },
  {
   "cell_type": "code",
   "execution_count": 6,
   "metadata": {},
   "outputs": [],
   "source": [
    "#object olan veri tiplerini floata çevirdim\n",
    "df3[col]=df3[col].astype(float)"
   ]
  },
  {
   "cell_type": "code",
   "execution_count": 7,
   "metadata": {},
   "outputs": [],
   "source": [
    "drop_value = ['ev_takim', 'dep_takim', 'ev_sonuc', 'dep_sonuc', ]\n",
    "df3=df3.drop(drop_value,axis=1)"
   ]
  },
  {
   "cell_type": "code",
   "execution_count": 8,
   "metadata": {},
   "outputs": [],
   "source": [
    "from sklearn.model_selection import train_test_split"
   ]
  },
  {
   "cell_type": "code",
   "execution_count": 9,
   "metadata": {},
   "outputs": [],
   "source": [
    "#bağımlı bağımsız değişkenlerimi ayırdım \n",
    "#bağımlı değişken sonuc(1=Evsahibi kazanır 0=Beraberlik 2=Deplasman kazanır)\n",
    "x = df3.iloc[:,:-1]\n",
    "y = df3.sonuc\n",
    "from sklearn.preprocessing import StandardScaler\n",
    "stdsc = StandardScaler()\n",
    "x_scaled = stdsc.fit_transform(x)\n",
    "X_train, X_test, y_train, y_test = train_test_split(x_scaled,y,test_size=0.2,random_state=101)"
   ]
  },
  {
   "cell_type": "code",
   "execution_count": 11,
   "metadata": {},
   "outputs": [],
   "source": [
    "import xgboost as xgb"
   ]
  },
  {
   "cell_type": "code",
   "execution_count": 12,
   "metadata": {},
   "outputs": [],
   "source": [
    "xgb_cls = xgb.XGBClassifier(objective='multi:softmax',num_class=3)"
   ]
  },
  {
   "cell_type": "code",
   "execution_count": 13,
   "metadata": {},
   "outputs": [
    {
     "output_type": "execute_result",
     "data": {
      "text/plain": "XGBClassifier(base_score=0.5, booster='gbtree', colsample_bylevel=1,\n              colsample_bynode=1, colsample_bytree=1, gamma=0,\n              learning_rate=0.1, max_delta_step=0, max_depth=3,\n              min_child_weight=1, missing=None, n_estimators=100, n_jobs=1,\n              nthread=None, num_class=3, objective='multi:softprob',\n              random_state=0, reg_alpha=0, reg_lambda=1, scale_pos_weight=1,\n              seed=None, silent=None, subsample=1, verbosity=1)"
     },
     "metadata": {},
     "execution_count": 13
    }
   ],
   "source": [
    "xgb_cls.fit(X_train,y_train)"
   ]
  },
  {
   "cell_type": "code",
   "execution_count": 14,
   "metadata": {},
   "outputs": [],
   "source": [
    "preds = xgb_cls.predict(X_test)"
   ]
  },
  {
   "cell_type": "code",
   "execution_count": 23,
   "metadata": {
    "tags": []
   },
   "outputs": [
    {
     "output_type": "stream",
     "name": "stdout",
     "text": "[[ 58  45  18]\n [ 11 198   9]\n [ 10  23 104]]\n0.7563025210084033\n"
    }
   ],
   "source": [
    "from sklearn.metrics import confusion_matrix ,accuracy_score\n",
    "print(confusion_matrix(y_test,preds))\n",
    "print(accuracy_score(y_test,preds))"
   ]
  },
  {
   "cell_type": "code",
   "execution_count": null,
   "metadata": {},
   "outputs": [],
   "source": []
  }
 ]
}